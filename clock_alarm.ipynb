{
 "cells": [
  {
   "cell_type": "markdown",
   "metadata": {},
   "source": [
    "### Clock Alarm to wake up at 06:00\n",
    "\n",
    "\n"
   ]
  },
  {
   "cell_type": "code",
   "execution_count": 3,
   "metadata": {},
   "outputs": [
    {
     "name": "stdin",
     "output_type": "stream",
     "text": [
      "What time is it? 4\n"
     ]
    },
    {
     "name": "stdout",
     "output_type": "stream",
     "text": [
      "Go on sleeping..\n"
     ]
    }
   ],
   "source": [
    "clock = int(input(\"What time is it?\"))\n",
    "\n",
    "if clock < 6:\n",
    "    print(\"Go on sleeping..\")\n",
    "elif clock > 6:\n",
    "    print(\"You are late.. Wake up and be quick!\")\n",
    "else:\n",
    "    print(\"It is time to wake up!\")"
   ]
  },
  {
   "cell_type": "code",
   "execution_count": 6,
   "metadata": {},
   "outputs": [
    {
     "name": "stdin",
     "output_type": "stream",
     "text": [
      "What time is it? 6\n"
     ]
    },
    {
     "name": "stdout",
     "output_type": "stream",
     "text": [
      "It is time to wake up!\n"
     ]
    }
   ],
   "source": [
    "clock = int(input(\"What time is it?\"))\n",
    "\n",
    "if clock < 6:\n",
    "    print(\"Go on sleeping..\")\n",
    "elif clock > 6:\n",
    "    print(\"You are late.. Wake up and be quick!\")\n",
    "else:\n",
    "    print(\"It is time to wake up!\")"
   ]
  },
  {
   "cell_type": "code",
   "execution_count": 7,
   "metadata": {},
   "outputs": [
    {
     "name": "stdin",
     "output_type": "stream",
     "text": [
      "What time is it? 8\n"
     ]
    },
    {
     "name": "stdout",
     "output_type": "stream",
     "text": [
      "You are late.. Wake up and be quick!\n"
     ]
    }
   ],
   "source": [
    "clock = int(input(\"What time is it?\"))\n",
    "\n",
    "if clock < 6:\n",
    "    print(\"Go on sleeping..\")\n",
    "elif clock > 6:\n",
    "    print(\"You are late.. Wake up and be quick!\")\n",
    "else:\n",
    "    print(\"It is time to wake up!\")"
   ]
  },
  {
   "cell_type": "code",
   "execution_count": 18,
   "metadata": {},
   "outputs": [
    {
     "name": "stdin",
     "output_type": "stream",
     "text": [
      "What time is it? 13\n"
     ]
    },
    {
     "name": "stdout",
     "output_type": "stream",
     "text": [
      "Enter a valid value!\n"
     ]
    }
   ],
   "source": [
    "clock = int(input(\"What time is it?\"))\n",
    "\n",
    "if clock < 6:\n",
    "    print(\"Go on sleeping..\")\n",
    "elif 6 < clock < 13:\n",
    "    print(\"You are late.. Wake up and be quick!\")\n",
    "elif clock == 6:\n",
    "    print(\"Alarm ringing...It is time to wake up!\")\n",
    "else:\n",
    "    print(\"Enter a valid value!\")"
   ]
  },
  {
   "cell_type": "code",
   "execution_count": 19,
   "metadata": {},
   "outputs": [
    {
     "name": "stdin",
     "output_type": "stream",
     "text": [
      "What time is it? 6\n"
     ]
    },
    {
     "name": "stdout",
     "output_type": "stream",
     "text": [
      "Alarm ringing...It is time to wake up!\n"
     ]
    }
   ],
   "source": [
    "clock = int(input(\"What time is it?\"))\n",
    "\n",
    "if clock < 6:\n",
    "    print(\"Go on sleeping..\")\n",
    "elif 6 < clock < 13:\n",
    "    print(\"You are late.. Wake up and be quick!\")\n",
    "elif clock == 6:\n",
    "    print(\"Alarm ringing...It is time to wake up!\")\n",
    "else:\n",
    "    print(\"Enter a valid value!\")"
   ]
  },
  {
   "cell_type": "code",
   "execution_count": null,
   "metadata": {},
   "outputs": [],
   "source": []
  }
 ],
 "metadata": {
  "kernelspec": {
   "display_name": "Python 3",
   "language": "python",
   "name": "python3"
  },
  "language_info": {
   "codemirror_mode": {
    "name": "ipython",
    "version": 3
   },
   "file_extension": ".py",
   "mimetype": "text/x-python",
   "name": "python",
   "nbconvert_exporter": "python",
   "pygments_lexer": "ipython3",
   "version": "3.7.6"
  }
 },
 "nbformat": 4,
 "nbformat_minor": 4
}
