{
 "cells": [
  {
   "cell_type": "markdown",
   "metadata": {},
   "source": [
    "### YAKIT SARFIYAT HESAPLAMASI"
   ]
  },
  {
   "cell_type": "code",
   "execution_count": 14,
   "metadata": {},
   "outputs": [
    {
     "name": "stdin",
     "output_type": "stream",
     "text": [
      "Gidilecek mesafeyi giriniz: 456.78\n",
      "Aracinizin km basina sarfiyat miktarini giriniz: 0.045\n"
     ]
    },
    {
     "name": "stdout",
     "output_type": "stream",
     "text": [
      "Araciniz bu mesafede 126.413865 TL yakar.\n"
     ]
    }
   ],
   "source": [
    "benzin_fiyat = 6.15\n",
    "\n",
    "mesafe = float(input(\"Gidilecek mesafeyi giriniz:\"))\n",
    "\n",
    "sarfiyat = float(input(\"Aracinizin km basina sarfiyat miktarini giriniz:\"))\n",
    "\n",
    "islem = float(sarfiyat * mesafe * benzin_fiyat)\n",
    "\n",
    "islem = str(islem)\n",
    "\n",
    "print(\"Araciniz bu mesafede \"+ islem + \" TL yakar.\")\n",
    "\n"
   ]
  },
  {
   "cell_type": "code",
   "execution_count": null,
   "metadata": {},
   "outputs": [],
   "source": []
  }
 ],
 "metadata": {
  "kernelspec": {
   "display_name": "Python 3",
   "language": "python",
   "name": "python3"
  },
  "language_info": {
   "codemirror_mode": {
    "name": "ipython",
    "version": 3
   },
   "file_extension": ".py",
   "mimetype": "text/x-python",
   "name": "python",
   "nbconvert_exporter": "python",
   "pygments_lexer": "ipython3",
   "version": "3.7.6"
  }
 },
 "nbformat": 4,
 "nbformat_minor": 4
}
